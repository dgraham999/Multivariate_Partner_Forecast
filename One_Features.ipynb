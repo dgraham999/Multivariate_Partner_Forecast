{
 "cells": [
  {
   "cell_type": "markdown",
   "metadata": {},
   "source": [
    "# Program 1 FEATURE GENERATION"
   ]
  },
  {
   "cell_type": "markdown",
   "metadata": {},
   "source": [
    "##### PURPOSE:\n",
    "This program converts the dates into integer features for the embedded variables.  It removes outliers and\n",
    "scales the daily sales to adjust for differences in the partner's regional markets.\n",
    "\n",
    "This is a demonstration program and is not production grade."
   ]
  },
  {
   "cell_type": "markdown",
   "metadata": {},
   "source": [
    "##### INPUT: \n",
    "Accounting data, training levels, class qualifications, customer experience responses, web activity and estimates of partner capability by management.  A Demand Index, an index of national market activity, and Price Index, an index of moving closing prices have been derived elsewhere."
   ]
  },
  {
   "cell_type": "markdown",
   "metadata": {},
   "source": [
    "##### OUTPUT: \n",
    "A feature set compatible with a tensorflow neural network predictive algorithm. The feature set is stored in the persistent file SF_data as SFFeatures.feather"
   ]
  },
  {
   "cell_type": "code",
   "execution_count": 1,
   "metadata": {},
   "outputs": [],
   "source": [
    "%matplotlib inline\n",
    "%reload_ext autoreload\n",
    "%autoreload 2"
   ]
  },
  {
   "cell_type": "code",
   "execution_count": 2,
   "metadata": {},
   "outputs": [],
   "source": [
    "import pandas as pd\n",
    "import numpy as np\n",
    "import os as os\n",
    "import datetime\n",
    "from datetime import date, timedelta\n",
    "#utility to store minmax scaler fits for each store\n",
    "from sklearn.externals.joblib import dump, load\n",
    "from sklearn.preprocessing import MinMaxScaler"
   ]
  },
  {
   "cell_type": "markdown",
   "metadata": {},
   "source": [
    "Feather is a recently updated binary storage method still experiencing random error messages.  Update pandas to latest version and use    'conda install -c conda-forge feather-format'     for reliable operation."
   ]
  },
  {
   "cell_type": "code",
   "execution_count": 3,
   "metadata": {},
   "outputs": [],
   "source": [
    "def read_data():   \n",
    "    df = pd.read_pickle('Part_Qtr_Rev_Data.pkl',compression=None)\n",
    "    df.sort_values(by=['ID','Date'],axis=0,inplace=True)\n",
    "    df.reset_index(drop=True,inplace=True)\n",
    "    return df"
   ]
  },
  {
   "cell_type": "code",
   "execution_count": 4,
   "metadata": {},
   "outputs": [],
   "source": [
    "df = read_data()"
   ]
  },
  {
   "cell_type": "markdown",
   "metadata": {},
   "source": [
    "Using pandas datetime methods to convert date to integer features to be used in embedding"
   ]
  },
  {
   "cell_type": "code",
   "execution_count": 5,
   "metadata": {},
   "outputs": [
    {
     "data": {
      "text/plain": [
       "Index(['ID', 'Class', 'Partner_Type', 'Customer_Type', 'Customer_Size',\n",
       "       'Territory', 'Credit_Rating', 'Overall_Satisfaction', 'Value_Potential',\n",
       "       'Expected_Relationship_Duration', 'Profit_Potential', 'Product_Quality',\n",
       "       'Product_Importance', 'Product_Breadth', 'Product_Competitiveness',\n",
       "       'Product_Training', 'Customer_Referral', 'Profit_Expectation',\n",
       "       'Effective_Communications', 'Price_Point', 'Margin',\n",
       "       'Brand_Requirement', 'Training_Effectiveness', 'Customer_Recognition',\n",
       "       'Problem_Solving', 'Sales', 'Engr', 'Training', 'Support', 'Operations',\n",
       "       'Expert', 'Bids', 'Quotes', 'Registrations', 'Inquiries', 'Sessions',\n",
       "       'Acct_Mgr', 'Support_Mgr', 'Team_Ability', 'Team_Contribution',\n",
       "       'Operations_Ability', 'Acct_Team_Satisfaction', 'Team_Solutions',\n",
       "       'Usefulness', 'Effectiveness', 'Response', 'Error_Free', 'Ease_of_Use',\n",
       "       'Pricing', 'Delivery_Response', 'Demand_Index', 'Price_Index', 'Rev',\n",
       "       'Date'],\n",
       "      dtype='object')"
      ]
     },
     "execution_count": 5,
     "metadata": {},
     "output_type": "execute_result"
    }
   ],
   "source": [
    "df.columns"
   ]
  },
  {
   "cell_type": "code",
   "execution_count": 6,
   "metadata": {},
   "outputs": [
    {
     "data": {
      "text/plain": [
       "(8000, 54)"
      ]
     },
     "execution_count": 6,
     "metadata": {},
     "output_type": "execute_result"
    }
   ],
   "source": [
    "df.shape"
   ]
  },
  {
   "cell_type": "code",
   "execution_count": 6,
   "metadata": {},
   "outputs": [],
   "source": [
    "def add_date_features(df):\n",
    "#    df['WEEKDAY'] = df.DATE.dt.dayofweek\n",
    "#   df['HOLIDAY'] = [d in holidays.US(years=[2016,2017,2018]) for d in df.DATE]\n",
    "    df['YEAR'] = df.Date.dt.year\n",
    "#    df['DAYOFYR'] = df.DATE.dt.dayofyear\n",
    "#    df['WEEKOFYR'] = df.DATE.dt.week\n",
    "    df['MONOFYEAR'] = df.Date.dt.month\n",
    "#    df['DAY'] = df.DATE.dt.day    \n",
    "    return df"
   ]
  },
  {
   "cell_type": "markdown",
   "metadata": {},
   "source": [
    "Run add_date_features and reset_index to maintain index order if distrupted.  Convention is all caps for engineered columns."
   ]
  },
  {
   "cell_type": "code",
   "execution_count": 21,
   "metadata": {},
   "outputs": [],
   "source": [
    "df = add_date_features(df)\n",
    "df.sort_values(by=['ID', 'Date'], inplace=True)\n",
    "df.reset_index(drop=True,inplace=True)"
   ]
  },
  {
   "cell_type": "code",
   "execution_count": 22,
   "metadata": {},
   "outputs": [
    {
     "data": {
      "text/plain": [
       "Index(['ID', 'Class', 'Partner_Type', 'Customer_Type', 'Customer_Size',\n",
       "       'Territory', 'Credit_Rating', 'Overall_Satisfaction', 'Value_Potential',\n",
       "       'Expected_Relationship_Duration', 'Profit_Potential', 'Product_Quality',\n",
       "       'Product_Importance', 'Product_Breadth', 'Product_Competitiveness',\n",
       "       'Product_Training', 'Customer_Referral', 'Profit_Expectation',\n",
       "       'Effective_Communications', 'Price_Point', 'Margin',\n",
       "       'Brand_Requirement', 'Training_Effectiveness', 'Customer_Recognition',\n",
       "       'Problem_Solving', 'Sales', 'Engr', 'Training', 'Support', 'Operations',\n",
       "       'Expert', 'Bids', 'Quotes', 'Registrations', 'Inquiries', 'Sessions',\n",
       "       'Acct_Mgr', 'Support_Mgr', 'Team_Ability', 'Team_Contribution',\n",
       "       'Operations_Ability', 'Acct_Team_Satisfaction', 'Team_Solutions',\n",
       "       'Usefulness', 'Effectiveness', 'Response', 'Error_Free', 'Ease_of_Use',\n",
       "       'Pricing', 'Delivery_Response', 'Demand_Index', 'Price_Index', 'Rev',\n",
       "       'Date', 'YEAR', 'MONOFYEAR', 'REV'],\n",
       "      dtype='object')"
      ]
     },
     "execution_count": 22,
     "metadata": {},
     "output_type": "execute_result"
    }
   ],
   "source": [
    "df.columns"
   ]
  },
  {
   "cell_type": "code",
   "execution_count": 23,
   "metadata": {},
   "outputs": [
    {
     "data": {
      "text/plain": [
       "<matplotlib.axes._subplots.AxesSubplot at 0x7fccd91d5898>"
      ]
     },
     "execution_count": 23,
     "metadata": {},
     "output_type": "execute_result"
    },
    {
     "data": {
      "image/png": "[encoded data removed]",
      "text/plain": [
       "<Figure size 432x288 with 1 Axes>"
      ]
     },
     "metadata": {
      "needs_background": "light"
     },
     "output_type": "display_data"
    }
   ],
   "source": [
    "df.Rev[:32].plot()"
   ]
  },
  {
   "cell_type": "markdown",
   "metadata": {},
   "source": [
    "No geographical, econometric or competitive information available to scale different \n",
    "partner economic potential.\n",
    "In order to adjust accounting data for these unknown features the sales are scaled to \n",
    "make the partners comparable."
   ]
  },
  {
   "cell_type": "code",
   "execution_count": 24,
   "metadata": {},
   "outputs": [],
   "source": [
    "def scale_sales(df):\n",
    "    REV = []\n",
    "    for s in list(df.ID.unique()):\n",
    "        y = []\n",
    "        ds = df[df.ID == s]\n",
    "        scaler = MinMaxScaler()\n",
    "        X=np.array(ds.Rev).reshape(-1,1)\n",
    "        dump(scaler.fit(X),os.getcwd() + '/scaler/' + str(s) +'_scaler')\n",
    "        y = scaler.transform(X)\n",
    "        rev = [item for sublist in y for item in sublist]\n",
    "        REV = REV + rev\n",
    "    return REV\n",
    "        "
   ]
  },
  {
   "cell_type": "code",
   "execution_count": 25,
   "metadata": {},
   "outputs": [],
   "source": [
    "df['REV'] = scale_sales(df)\n",
    "df.reset_index(drop=True,inplace=True)"
   ]
  },
  {
   "cell_type": "markdown",
   "metadata": {},
   "source": [
    "Plot of store variation."
   ]
  },
  {
   "cell_type": "code",
   "execution_count": 26,
   "metadata": {},
   "outputs": [
    {
     "data": {
      "text/plain": [
       "<matplotlib.axes._subplots.AxesSubplot at 0x7fccd89962b0>"
      ]
     },
     "execution_count": 26,
     "metadata": {},
     "output_type": "execute_result"
    },
    {
     "data": {
      "image/png": "[encoded data removed]",
      "text/plain": [
       "<Figure size 432x288 with 1 Axes>"
      ]
     },
     "metadata": {
      "needs_background": "light"
     },
     "output_type": "display_data"
    }
   ],
   "source": [
    "df.REV[:32].plot()"
   ]
  },
  {
   "cell_type": "markdown",
   "metadata": {},
   "source": [
    "Plot of scaled store sales."
   ]
  },
  {
   "cell_type": "markdown",
   "metadata": {},
   "source": [
    "No marketing or operations information is available to explain abnormal daily variations in sales levels.\n",
    "The statistics of the daily sales shows wide variations in quartile performance.  \n",
    "An important enhancement to this program is adding the latent features regarding sales promotions, competitive actions,\n",
    "competing store closures, etc to account for this variation.  \n",
    "An output of this program is the dates and extremity of the latent features."
   ]
  },
  {
   "cell_type": "code",
   "execution_count": 34,
   "metadata": {},
   "outputs": [
    {
     "data": {
      "text/plain": [
       "<matplotlib.axes._subplots.AxesSubplot at 0x7fccd88f5128>"
      ]
     },
     "execution_count": 34,
     "metadata": {},
     "output_type": "execute_result"
    },
    {
     "data": {
      "image/png": "[encoded data removed]",
      "text/plain": [
       "<Figure size 432x288 with 1 Axes>"
      ]
     },
     "metadata": {
      "needs_background": "light"
     },
     "output_type": "display_data"
    }
   ],
   "source": [
    "np.log(df.Rev)[:32].plot()"
   ]
  },
  {
   "cell_type": "code",
   "execution_count": 31,
   "metadata": {},
   "outputs": [
    {
     "data": {
      "text/plain": [
       "count    8000.000000\n",
       "mean        0.582989\n",
       "std         0.300608\n",
       "min         0.000000\n",
       "25%         0.370290\n",
       "50%         0.652506\n",
       "75%         0.832429\n",
       "max         1.000000\n",
       "Name: REV, dtype: float64"
      ]
     },
     "execution_count": 31,
     "metadata": {},
     "output_type": "execute_result"
    }
   ],
   "source": [
    "df.REV.describe()"
   ]
  },
  {
   "cell_type": "code",
   "execution_count": 32,
   "metadata": {},
   "outputs": [
    {
     "data": {
      "text/plain": [
       "count    8000.000000\n",
       "mean       20.711978\n",
       "std        14.115113\n",
       "min         1.731328\n",
       "25%         9.612693\n",
       "50%        17.432011\n",
       "75%        29.158963\n",
       "max        72.354947\n",
       "Name: Rev, dtype: float64"
      ]
     },
     "execution_count": 32,
     "metadata": {},
     "output_type": "execute_result"
    }
   ],
   "source": [
    "df.Rev.describe()"
   ]
  },
  {
   "cell_type": "code",
   "execution_count": 33,
   "metadata": {},
   "outputs": [
    {
     "data": {
      "text/plain": [
       "count    8000.000000\n",
       "mean        2.771287\n",
       "std         0.766887\n",
       "min         0.548889\n",
       "25%         2.263084\n",
       "50%         2.858308\n",
       "75%         3.372762\n",
       "max         4.281584\n",
       "Name: Rev, dtype: float64"
      ]
     },
     "execution_count": 33,
     "metadata": {},
     "output_type": "execute_result"
    }
   ],
   "source": [
    "np.log(df.Rev).describe()"
   ]
  },
  {
   "cell_type": "code",
   "execution_count": 30,
   "metadata": {},
   "outputs": [],
   "source": [
    "df.sort_values(by=['ID','Date'],inplace=True)\n",
    "df.to_pickle('Partner_Features.pkl')"
   ]
  },
  {
   "cell_type": "markdown",
   "metadata": {},
   "source": [
    "##### CLOSE FILE\n",
    "This file should be closed using the File 'Close and Halt' menu dropdown selection.  "
   ]
  }
 ],
 "metadata": {
  "kernelspec": {
   "display_name": "Python 3",
   "language": "python",
   "name": "python3"
  },
  "language_info": {
   "codemirror_mode": {
    "name": "ipython",
    "version": 3
   },
   "file_extension": ".py",
   "mimetype": "text/x-python",
   "name": "python",
   "nbconvert_exporter": "python",
   "pygments_lexer": "ipython3",
   "version": "3.7.3"
  }
 },
 "nbformat": 4,
 "nbformat_minor": 2
}
